{
 "cells": [
  {
   "cell_type": "code",
   "execution_count": null,
   "id": "878ddbdc",
   "metadata": {},
   "outputs": [],
   "source": [
    "lito_rates = {\n",
    "    0: (700, 0.0),\n",
    "    37_500: (700, 0.05),\n",
    "    45_000: (325, 0.015),\n",
    "    66_667: (0.0, 0.0)\n",
    "}\n",
    "\n",
    "\n",
    "def calculate_lito(income):\n",
    "    lito = 0\n",
    "    for threshold, (max_lito, rate) in lito_rates.items():\n",
    "        if income < threshold:\n",
    "            lito += max_lito - (income - threshold) * rate\n",
    "            income = threshold\n",
    "    return lito if lito > 0 else 0\n"
   ]
  },
  {
   "cell_type": "code",
   "execution_count": 33,
   "id": "c4260040",
   "metadata": {},
   "outputs": [
    {
     "data": {
      "text/plain": [
       "700.0"
      ]
     },
     "execution_count": 33,
     "metadata": {},
     "output_type": "execute_result"
    }
   ],
   "source": [
    "calculate_lito(55605)"
   ]
  },
  {
   "cell_type": "code",
   "execution_count": null,
   "id": "f74e1e32",
   "metadata": {},
   "outputs": [],
   "source": [
    "LITO_THRESHOLDS = sorted(LITO_TABLE)  \n",
    "LITO_BASES, LITO_TAPERS = zip(*(LITO_TABLE[t] for t in _THRESHOLDS))\n",
    "\n",
    "def lito_offset(income, thresholds=LITO_THRESHOLDS, bases=LITO_BASES, tapers=LITO_TAPERS):\n",
    "    \"\"\"Return the Low-Income Tax Offset for a given `income`.\"\"\"\n",
    "    idx = bisect.bisect_right(thresholds, income) - 1         # find bracket\n",
    "    base, taper, floor = bases[idx], tapers[idx], thresholds[idx]\n",
    "    return max(base - (income - floor) * taper, 0.0)"
   ]
  },
  {
   "cell_type": "code",
   "execution_count": 37,
   "id": "d9e0bbf8",
   "metadata": {},
   "outputs": [
    {
     "data": {
      "text/plain": [
       "68.65015000000005"
      ]
     },
     "execution_count": 37,
     "metadata": {},
     "output_type": "execute_result"
    }
   ],
   "source": [
    "lito_offset(62089.99)"
   ]
  },
  {
   "cell_type": "code",
   "execution_count": null,
   "id": "bc54d8e6",
   "metadata": {},
   "outputs": [],
   "source": []
  }
 ],
 "metadata": {
  "kernelspec": {
   "display_name": "venv",
   "language": "python",
   "name": "python3"
  },
  "language_info": {
   "codemirror_mode": {
    "name": "ipython",
    "version": 3
   },
   "file_extension": ".py",
   "mimetype": "text/x-python",
   "name": "python",
   "nbconvert_exporter": "python",
   "pygments_lexer": "ipython3",
   "version": "3.13.1"
  }
 },
 "nbformat": 4,
 "nbformat_minor": 5
}
